{
 "cells": [
  {
   "cell_type": "markdown",
   "id": "b2f8d5bd-6fe3-4487-96c1-07fd5fdecaf3",
   "metadata": {},
   "source": [
    "# This is a python project to build a food ordering app for a small business."
   ]
  },
  {
   "cell_type": "markdown",
   "id": "a6fbe3e0-4012-4ce6-a966-86123a67e2a5",
   "metadata": {},
   "source": [
    "A food vendor has approached you build a simple app to help their users order food. The vendor sells the following food items\n",
    "\n",
    "* Pizza at 20 pounds\n",
    "* Burger at 15 pounds\n",
    "* Milkshake at 12 pounds\n",
    "\n",
    "Write the code for each of these functions to accurately capture a users order and display a receipt to the user.\n"
   ]
  },
  {
   "cell_type": "code",
   "execution_count": 1,
   "id": "0e5f25c6-5107-4253-9edc-76fa0e5389f6",
   "metadata": {},
   "outputs": [],
   "source": [
    "# This is a function to display the menu\n",
    "def display_menu():\n",
    "    print(\"Menu:\")\n",
    "    print(\"1. Pizza - 20 pounds\")\n",
    "    print(\"2. Burger - 15 pounds\")\n",
    "    print(\"3. Milkshake - 12 pounds\")\n",
    "    print(\"4. Check-Out\")\n",
    "    print(\"5. Cancel \\n\")"
   ]
  },
  {
   "cell_type": "code",
   "execution_count": 2,
   "id": "531b8a74-66bc-4d47-9cfc-e8e73f54c15c",
   "metadata": {},
   "outputs": [],
   "source": [
    "#mThis helps to clear output\n",
    "from IPython.display import clear_output"
   ]
  },
  {
   "cell_type": "code",
   "execution_count": 3,
   "id": "a66c9a5f-59a6-46b7-8260-0a915dbcde3b",
   "metadata": {},
   "outputs": [],
   "source": [
    "# This is a function that accept users order input and prevent entering wrong input\n",
    "def get_user_choice():\n",
    "    choice = 0\n",
    "    acceptable_input = ['1','2','3','4','5']\n",
    "    while True:\n",
    "        choice = input('What would you like to order? ')\n",
    "        if choice.isdigit() or (choice.startswith('-') and choice[1:].isdigit()):\n",
    "            if choice in acceptable_input:\n",
    "                return int(choice)\n",
    "            else:\n",
    "                print('Invalid choice. Please enter a number between 1 and 5.\\n')\n",
    "        else:\n",
    "            print('Invalid input. Please enter a valid number. \\n' )"
   ]
  },
  {
   "cell_type": "code",
   "execution_count": 4,
   "id": "ebe8571b-1ed3-4528-9961-2d43da825e62",
   "metadata": {},
   "outputs": [],
   "source": [
    "# This is a function that accept quantity from customer and prevents input error\n",
    "def get_quantity():\n",
    "    while True:\n",
    "        try:\n",
    "            quantity = int(input(\"Enter the quantity: \"))\n",
    "            if quantity > 0:\n",
    "                return quantity\n",
    "            else:\n",
    "                print(\"Quantity must be greater than 0.\\n\")\n",
    "        except ValueError:\n",
    "            print(\"Invalid input. Please enter a valid number.\\n\")"
   ]
  },
  {
   "cell_type": "code",
   "execution_count": 5,
   "id": "84af05e5-3545-47d9-bacf-07ad798598c2",
   "metadata": {},
   "outputs": [],
   "source": [
    "# This function help to convert user's order choice into actual item\n",
    "def get_item_name(choice):\n",
    "    if choice == 1:\n",
    "        return 'Pizza'\n",
    "    elif choice == 2:\n",
    "        return 'Burger'\n",
    "    elif choice == 3:\n",
    "        return 'Milkshake'"
   ]
  },
  {
   "cell_type": "code",
   "execution_count": 6,
   "id": "cfa14091-1562-465b-be7a-4b7a0494e541",
   "metadata": {},
   "outputs": [],
   "source": [
    "# This function help to convert user's order choice into item price\n",
    "def get_item_price(choice):\n",
    "    if choice == 1:\n",
    "        return 20\n",
    "    elif choice == 2:\n",
    "        return 15\n",
    "    elif choice == 3:\n",
    "        return 12"
   ]
  },
  {
   "cell_type": "code",
   "execution_count": 7,
   "id": "13d1ef23-8c6e-4d7c-bc06-b1e372e35a65",
   "metadata": {},
   "outputs": [],
   "source": [
    "# This function calculate the order of a specific food item based on its price and the quantity ordered.\n",
    "def calculate_total_price(item_price, quantity):\n",
    "    return item_price * quantity"
   ]
  },
  {
   "cell_type": "code",
   "execution_count": 8,
   "id": "f394fecc-03b1-4bb7-b41c-38bc1b41a489",
   "metadata": {},
   "outputs": [],
   "source": [
    "# This function manages the process of adding items to cart ensuring user can order more than 1 item\n",
    "def place_order():\n",
    "    display_menu()\n",
    "    quantity = []\n",
    "    choice = []\n",
    "    cart = {}\n",
    "    # This allow items and quantity to be added to cart unless customer decide to check out or cancal order\n",
    "    while True:\n",
    "        user_choice = get_user_choice()\n",
    "        if user_choice == 4:\n",
    "            break\n",
    "        if user_choice == 5:\n",
    "            cart = 5\n",
    "            break\n",
    "        choice.append(user_choice)\n",
    "        user_quantity = get_quantity()\n",
    "        quantity.append(user_quantity)\n",
    "    for cho,quan in zip(choice, quantity):\n",
    "        item_name = get_item_name(cho)\n",
    "        item_price = get_item_price(cho)\n",
    "        total_price = calculate_total_price(item_price, quan)\n",
    "        if item_name in cart:\n",
    "            cart[item_name]['quantity'] += quan\n",
    "            cart[item_name]['total_price'] += total_price\n",
    "        else:\n",
    "            cart[item_name] = {'quantity': quan,'total_price': total_price}\n",
    "    return cart"
   ]
  },
  {
   "cell_type": "code",
   "execution_count": 9,
   "id": "dc1fbe80-336d-464a-9b08-2f650832ca1a",
   "metadata": {},
   "outputs": [],
   "source": [
    "# Ask if user would like to make payment for the order and also displays the total cost of order\n",
    "def payment(cart):\n",
    "    total = 0\n",
    "    dict_key = list(cart.keys())\n",
    "    for keys in dict_key:\n",
    "        item_price = cart[keys]['total_price']\n",
    "        total += item_price\n",
    "    clear_output()\n",
    "    print(f'Your total purchase is {total} pounds')\n",
    "    print('Would you like to proceed with payment\\n\\nEnter 1 to proceed\\nEnter 2 to Cancel\\n')\n",
    "    while True:\n",
    "        choice = input('Enter input: ')\n",
    "        if choice == '1':\n",
    "            return 1\n",
    "            break\n",
    "        elif choice == '2':\n",
    "            return 2\n",
    "            break\n",
    "        else:\n",
    "            print('Wrong input\\n')"
   ]
  },
  {
   "cell_type": "code",
   "execution_count": 10,
   "id": "6ecc6f95-42b6-43de-8eb0-104affdeee53",
   "metadata": {},
   "outputs": [],
   "source": [
    "# This function is meant to get response from payment partner if payment was successful or not\n",
    "def payment_check(paypal):\n",
    "    while True:\n",
    "        if paypal == 'Success':\n",
    "            print('Payment Successful')\n",
    "            break\n",
    "        else:\n",
    "            print('Payment Unsuccessful')"
   ]
  },
  {
   "cell_type": "code",
   "execution_count": 11,
   "id": "418afb5b-efee-46c5-ac7b-e066da35e099",
   "metadata": {},
   "outputs": [],
   "source": [
    "# This function ask user if they will like to retry payment in case it was unsuccessful.\n",
    "def payment_retry():\n",
    "    print('Would you like to try again?\\n\\nEnter 1 for Yes\\nEnter 2 for No\\n')\n",
    "    while True:\n",
    "        choice = input('Enter input: ')\n",
    "        if choice == '1':\n",
    "            return 1\n",
    "            break\n",
    "        elif choice == '2':                       \n",
    "                return 2\n",
    "                break\n",
    "        else:\n",
    "            print('Wrong input') "
   ]
  },
  {
   "cell_type": "code",
   "execution_count": 12,
   "id": "9534cc19-d274-47f0-bfcf-0b4d2b2308bd",
   "metadata": {},
   "outputs": [],
   "source": [
    "# This function runs multiple functions and displays the final item in a receipts format \n",
    "def check_out(cart):\n",
    "    total = 0\n",
    "    num = 0\n",
    "    # This checks if the customer would like to cancel the order just like in the display menu option\n",
    "    if cart == 5:\n",
    "        clear_output()\n",
    "        print('Order Cancelled')\n",
    "    # In the case where a customer tries to check-out without placing order \n",
    "    elif len(cart) == 0:\n",
    "        clear_output()\n",
    "        print('Your cart is empty. No items to check out.')\n",
    "    else:\n",
    "        # This stores input after running the function to check if the customer would like to make payment\n",
    "        make_payment = payment(cart)\n",
    "        if make_payment == 1:\n",
    "            print('\\n')\n",
    "            while True:\n",
    "                # This accepts output from third party payment partner if payment was successful or not\n",
    "                # payment_response = payment_check(paypal)\n",
    "                # However, in this case we would assume that all payment was successful to allow our code run without error\n",
    "                payment_response = 'Payment Successful'\n",
    "                if payment_response == 'Payment Successful':\n",
    "                    clear_output()\n",
    "                    print('Payment Successful')\n",
    "                    print('Checking out...')\n",
    "                    print('Your order details: \\n')\n",
    "                    dict_key = list(cart.keys())\n",
    "                    for keys in dict_key:\n",
    "                        quantity = cart[keys]['quantity']\n",
    "                        price = cart[keys]['total_price']\n",
    "                        total += price\n",
    "                        num += 1\n",
    "                        print(f'{keys}: Quantity - {quantity}, Total Price - {price} pounds')\n",
    "                    print(f'\\nTotal Order Price: {total} pounds \\n')\n",
    "                    print('Thank you for ordering!')\n",
    "                    break\n",
    "                else:\n",
    "                    print('Payment declined')\n",
    "                    retry = payment_retry()\n",
    "                    if retry == 1:\n",
    "                        pass\n",
    "                    else:\n",
    "                        clear_output()\n",
    "                        print('Order Cancelled due to Unseccessful Payment')\n",
    "                        break\n",
    "        elif make_payment == 2:\n",
    "            clear_output()\n",
    "            print('Order Cancelled')"
   ]
  },
  {
   "cell_type": "code",
   "execution_count": 13,
   "id": "e6cf198d-d4fe-44c5-be12-0e1b03799816",
   "metadata": {},
   "outputs": [],
   "source": [
    "# This function initiates the food ordering application\n",
    "def food_ordering_app():\n",
    "    cart = place_order()\n",
    "    check_out(cart)"
   ]
  },
  {
   "cell_type": "code",
   "execution_count": 14,
   "id": "c83f0560-8480-458b-b6df-2edbb32fb881",
   "metadata": {},
   "outputs": [
    {
     "name": "stdout",
     "output_type": "stream",
     "text": [
      "Payment Successful\n",
      "Checking out...\n",
      "Your order details: \n",
      "\n",
      "Pizza: Quantity - 20, Total Price - 400 pounds\n",
      "Burger: Quantity - 30, Total Price - 450 pounds\n",
      "Milkshake: Quantity - 50, Total Price - 600 pounds\n",
      "\n",
      "Total Order Price: 1450 pounds \n",
      "\n",
      "Thank you for ordering!\n"
     ]
    }
   ],
   "source": [
    "# This is the run of event when order is successful\n",
    "food_ordering_app()"
   ]
  },
  {
   "cell_type": "markdown",
   "id": "3b68a6f1-6f3c-435b-9a18-bf50bd2b101b",
   "metadata": {
    "jp-MarkdownHeadingCollapsed": true
   },
   "source": [
    " "
   ]
  },
  {
   "cell_type": "markdown",
   "id": "86869c0c-63fc-449b-b061-9c2fcbc958c7",
   "metadata": {},
   "source": [
    "Run the next 3 cells to check what heppens when payment declines"
   ]
  },
  {
   "cell_type": "code",
   "execution_count": 15,
   "id": "a22a2182-4635-4026-8f1f-c547110879e5",
   "metadata": {},
   "outputs": [],
   "source": [
    "# This function runs like check_out with the only difference being that payment made is unsuccessful  \n",
    "def check_out_declined(cart):\n",
    "    total = 0\n",
    "    num = 0\n",
    "    # This checks if the customer would like to cancel the order just like in the display menu option\n",
    "    if cart == 5:\n",
    "        clear_output()\n",
    "        print('Order Cancelled')\n",
    "    # In the case where a customer tries to check-out without placing order \n",
    "    elif len(cart) == 0:\n",
    "        clear_output()\n",
    "        print('Your cart is empty. No items to check out.')\n",
    "    else:\n",
    "        # This stores input after running the function to check if the customer would like to make payment\n",
    "        make_payment = payment(cart)\n",
    "        if make_payment == 1:\n",
    "            print('\\n')\n",
    "            while True:\n",
    "                # This accepts output from third party payment partner if payment was successful or not\n",
    "                # payment_response = payment_check(paypal)\n",
    "                # However, in this case we would assume that all payment was unsuccessful to allow our code run without error\n",
    "                payment_response = 'Payment Declined'\n",
    "                if payment_response == 'Payment Successful':\n",
    "                    clear_output()\n",
    "                    print('Payment Successful')\n",
    "                    print('Checking out...')\n",
    "                    print('Your order details: \\n')\n",
    "                    dict_key = list(cart.keys())\n",
    "                    for keys in dict_key:\n",
    "                        quantity = cart[keys]['quantity']\n",
    "                        price = cart[keys]['total_price']\n",
    "                        total += price\n",
    "                        num += 1\n",
    "                        print(f'{keys}: Quantity - {quantity}, Total Price - {price} pounds')\n",
    "                    print(f'\\nTotal Order Price: {total} pounds \\n')\n",
    "                    print('Thank you for ordering!')\n",
    "                    break\n",
    "                else:\n",
    "                    print('Payment declined')\n",
    "                    retry = payment_retry()\n",
    "                    if retry == 1:\n",
    "                        pass\n",
    "                    else:\n",
    "                        clear_output()\n",
    "                        print('Order Cancelled due to Unseccessful Payment')\n",
    "                        break\n",
    "        elif make_payment == 2:\n",
    "            clear_output()\n",
    "            print('Order Cancelled')"
   ]
  },
  {
   "cell_type": "code",
   "execution_count": 16,
   "id": "d58fa9fe-6309-4389-a7da-475f79e9e701",
   "metadata": {},
   "outputs": [],
   "source": [
    "def food_ordering_declined():\n",
    "    cart = place_order()\n",
    "    check_out_declined(cart)"
   ]
  },
  {
   "cell_type": "code",
   "execution_count": 17,
   "id": "9a9e2689-3075-443d-a043-413c4f94e71a",
   "metadata": {},
   "outputs": [
    {
     "name": "stdout",
     "output_type": "stream",
     "text": [
      "Order Cancelled due to Unseccessful Payment\n"
     ]
    }
   ],
   "source": [
    "# This is the run of event when payment declines\n",
    "# Enter 2 when asked to try payment again to break out of loop\n",
    "food_ordering_declined()"
   ]
  }
 ],
 "metadata": {
  "kernelspec": {
   "display_name": "Python 3 (ipykernel)",
   "language": "python",
   "name": "python3"
  },
  "language_info": {
   "codemirror_mode": {
    "name": "ipython",
    "version": 3
   },
   "file_extension": ".py",
   "mimetype": "text/x-python",
   "name": "python",
   "nbconvert_exporter": "python",
   "pygments_lexer": "ipython3",
   "version": "3.13.5"
  }
 },
 "nbformat": 4,
 "nbformat_minor": 5
}
